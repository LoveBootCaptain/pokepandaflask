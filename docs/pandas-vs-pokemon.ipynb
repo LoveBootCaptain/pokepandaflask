{
 "cells": [
  {
   "cell_type": "markdown",
   "metadata": {},
   "source": [
    "# Pandas vs. Pokémon"
   ]
  },
  {
   "cell_type": "markdown",
   "metadata": {},
   "source": [
    "## install latest version of python\n",
    "\n",
    "just [Download Python 3.8.1](https://www.python.org/downloads/release/python-381/) from the offical source and follow the installation instructions"
   ]
  },
  {
   "cell_type": "markdown",
   "metadata": {},
   "source": [
    "## create a virtual environemt for this project\n",
    "\n",
    "set up a virtual environment with the name `venv` for installation of the needed librarys to don't mess up the hole host maschine\n",
    "\n",
    "```bash\n",
    "python3 -m venv venv\n",
    "```\n",
    "\n",
    "than source and activate the virtual environment with\n",
    "\n",
    "```bash\n",
    "source venv/bin/activate\n",
    "```\n",
    "\n",
    "when you are done you can simply deactive the virtual environment with\n",
    "\n",
    "```bash\n",
    "deactive\n",
    "```"
   ]
  },
  {
   "cell_type": "markdown",
   "metadata": {},
   "source": [
    "## install & import pandas\n",
    "\n",
    "to install Pandas the most common way is to just\n",
    "\n",
    "```bash\n",
    "pip install pandas\n",
    "```\n",
    "\n",
    "for this demo i used\n",
    "\n",
    "```bash\n",
    "pip install pandas==1.0.0rc0\n",
    "```"
   ]
  },
  {
   "cell_type": "code",
   "execution_count": null,
   "metadata": {
    "pycharm": {
     "is_executing": false
    }
   },
   "outputs": [],
   "source": [
    "import pandas as pd"
   ]
  },
  {
   "cell_type": "markdown",
   "metadata": {},
   "source": [
    "## read the data from .csv file\n",
    " \n",
    "pandas offers a nice option to read .csv files with\n",
    "\n",
    "```python\n",
    "pd.read_csv(file_path)\n",
    "```\n",
    "\n",
    "\n",
    "for more informations and options just visit the docs"
   ]
  },
  {
   "cell_type": "code",
   "execution_count": null,
   "metadata": {
    "pycharm": {
     "is_executing": false
    }
   },
   "outputs": [],
   "source": [
    "pokemon_species_names = pd.read_csv('data/pokemon_species_names.csv')"
   ]
  },
  {
   "cell_type": "code",
   "execution_count": null,
   "metadata": {
    "pycharm": {
     "is_executing": false
    }
   },
   "outputs": [],
   "source": [
    "pokemon_species_names"
   ]
  },
  {
   "cell_type": "markdown",
   "metadata": {},
   "source": [
    "## set up some variables to keep the demo simple\n",
    "\n",
    "### language_id \n",
    "\n",
    "* it's an ISO-code\n",
    "* can be also read from the .csv-file `languages.csv` from the pokeapi-source\n",
    "\n",
    "#### examples\n",
    "```\n",
    "6 = de\n",
    "9 = en\n",
    "```\n",
    "\n",
    "### poke_id\n",
    "\n",
    "will be the pokémon id from the offical source\n",
    "\n",
    "#### examples\n",
    "```\n",
    "1 = 'Bulbasaur' with locale in 'en'\n",
    "1 = 'Bisasam' with locale = 'de'\n",
    "```"
   ]
  },
  {
   "cell_type": "code",
   "execution_count": null,
   "metadata": {
    "pycharm": {
     "is_executing": false
    }
   },
   "outputs": [],
   "source": [
    "language_id = 6\n",
    "poke_id = 1"
   ]
  },
  {
   "cell_type": "markdown",
   "metadata": {},
   "source": [
    "## filter down the DataFrame\n",
    "\n",
    "only show the rows of our specified `language_id` by filtering our DataFrame with the `df.loc` method \n",
    "\n",
    "```python\n",
    "df.loc[df.loc[:, 'column we want to filter'] == 'our wanted language', :]\n",
    "```"
   ]
  },
  {
   "cell_type": "code",
   "execution_count": null,
   "metadata": {
    "pycharm": {
     "is_executing": false
    }
   },
   "outputs": [],
   "source": [
    "localised_names = pokemon_species_names.loc[pokemon_species_names.loc[:, 'local_language_id'] == language_id, :]"
   ]
  },
  {
   "cell_type": "markdown",
   "metadata": {},
   "source": [
    "## print what you have captured\n",
    "\n",
    "in jupyter notebook or from the terminal... \n",
    "\n",
    "you can just call the DataFrame by it's name `localised_names` and you will get a stripped down representation of your data"
   ]
  },
  {
   "cell_type": "code",
   "execution_count": null,
   "metadata": {
    "pycharm": {
     "is_executing": false
    }
   },
   "outputs": [],
   "source": [
    "localised_names"
   ]
  },
  {
   "cell_type": "markdown",
   "metadata": {},
   "source": [
    "## learn, adapt and catch 'em all\n",
    "\n",
    "just use the same `df.loc` method as before to filter the already filtered data again for the matching `poke_id`"
   ]
  },
  {
   "cell_type": "code",
   "execution_count": null,
   "metadata": {
    "pycharm": {
     "is_executing": false
    }
   },
   "outputs": [],
   "source": [
    "poke_name = localised_names.loc[pokemon_species_names.loc[:, 'pokemon_species_id'] == int(poke_id), :]"
   ]
  },
  {
   "cell_type": "code",
   "execution_count": null,
   "metadata": {
    "pycharm": {
     "is_executing": false
    },
    "scrolled": false
   },
   "outputs": [],
   "source": [
    "poke_name"
   ]
  },
  {
   "cell_type": "markdown",
   "metadata": {},
   "source": [
    "## convertig to json\n",
    "\n",
    "we now use the `df.loc` method again to reorganise or DataFrame and drop all unnecessary columns\n",
    "\n",
    "than we use the `.to_json()` method on the DataFrame to convert the 'table-like'-object into a 'json-like'-string\n",
    "\n",
    "> in pandas==1.0.0rc0 `.to_json()` now accepts an `indent` integer argument to enable pretty printing of JSON output \n",
    "-> so let's use it :)"
   ]
  },
  {
   "cell_type": "code",
   "execution_count": null,
   "metadata": {
    "pycharm": {
     "is_executing": false
    }
   },
   "outputs": [],
   "source": [
    "data = poke_name.loc[:, ['pokemon_species_id', 'name', 'genus']].to_json(orient='table', index=False, indent=4)"
   ]
  },
  {
   "cell_type": "markdown",
   "metadata": {},
   "source": [
    "## let's see what we caputured\n",
    "\n",
    "with `print(df)` we can see one of the latest features of pandas==1.0.0rc0"
   ]
  },
  {
   "cell_type": "code",
   "execution_count": null,
   "metadata": {
    "pycharm": {
     "is_executing": false
    }
   },
   "outputs": [],
   "source": [
    "print(data)"
   ]
  },
  {
   "cell_type": "markdown",
   "metadata": {},
   "source": [
    "## final steps\n",
    "\n",
    "lets make a real json-object from that string with `json.loads(string)` \n",
    "\n",
    "* import the json module first from the standard library\n",
    "* then just pick the `data` key and grep what's inside the list"
   ]
  },
  {
   "cell_type": "code",
   "execution_count": null,
   "metadata": {
    "pycharm": {
     "is_executing": false
    }
   },
   "outputs": [],
   "source": [
    "import json"
   ]
  },
  {
   "cell_type": "code",
   "execution_count": null,
   "metadata": {
    "pycharm": {
     "is_executing": false
    }
   },
   "outputs": [],
   "source": [
    "new_data = json.loads(data)['data'][0]"
   ]
  },
  {
   "cell_type": "markdown",
   "metadata": {},
   "source": [
    "## check the result\n",
    "\n",
    "by calling the object by name we should see a usable result for our API response... **right?**"
   ]
  },
  {
   "cell_type": "code",
   "execution_count": null,
   "metadata": {
    "pycharm": {
     "is_executing": false
    }
   },
   "outputs": [],
   "source": [
    "new_data"
   ]
  },
  {
   "cell_type": "markdown",
   "metadata": {},
   "source": [
    "## test if we get the right name\n",
    "\n",
    "this will return the right name in the specified `language_id` for your `poke_id`"
   ]
  },
  {
   "cell_type": "code",
   "execution_count": null,
   "metadata": {
    "pycharm": {
     "is_executing": false
    }
   },
   "outputs": [],
   "source": [
    "new_data['name']"
   ]
  },
  {
   "cell_type": "markdown",
   "metadata": {},
   "source": [
    "## the end\n",
    "\n",
    "**thx for your atention**\n",
    "\n",
    "## Questions?"
   ]
  }
 ],
 "metadata": {
  "kernelspec": {
   "display_name": "Python 3",
   "language": "python",
   "name": "python3"
  },
  "language_info": {
   "codemirror_mode": {
    "name": "ipython",
    "version": 3
   },
   "file_extension": ".py",
   "mimetype": "text/x-python",
   "name": "python",
   "nbconvert_exporter": "python",
   "pygments_lexer": "ipython3",
   "version": "3.8.1"
  },
  "pycharm": {
   "stem_cell": {
    "cell_type": "raw",
    "metadata": {
     "collapsed": false
    },
    "source": []
   }
  }
 },
 "nbformat": 4,
 "nbformat_minor": 4
}
